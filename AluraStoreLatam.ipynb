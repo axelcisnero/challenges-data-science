{
  "nbformat": 4,
  "nbformat_minor": 0,
  "metadata": {
    "colab": {
      "provenance": []
    },
    "kernelspec": {
      "name": "python3",
      "display_name": "Python 3"
    },
    "language_info": {
      "name": "python"
    }
  },
  "cells": [
    {
      "cell_type": "markdown",
      "source": [
        "### Importación de datos\n",
        "\n"
      ],
      "metadata": {
        "id": "RhEdWd9YUR6H"
      }
    },
    {
      "cell_type": "code",
      "execution_count": null,
      "metadata": {
        "colab": {
          "base_uri": "https://localhost:8080/",
          "height": 293
        },
        "id": "T3EvaeQ_INIL",
        "outputId": "e7f3af3f-0464-403e-d08f-683039e1247b"
      },
      "outputs": [
        {
          "output_type": "execute_result",
          "data": {
            "text/plain": [
              "            Producto Categoría del Producto    Precio  Costo de envío  \\\n",
              "0  Asistente virtual           Electrónicos  164300.0          6900.0   \n",
              "1    Mesa de comedor                Muebles  192300.0          8400.0   \n",
              "2      Juego de mesa               Juguetes  209600.0         15900.0   \n",
              "3         Microondas      Electrodomésticos  757500.0         41000.0   \n",
              "4   Silla de oficina                Muebles  335200.0         20200.0   \n",
              "\n",
              "  Fecha de Compra         Vendedor Lugar de Compra  Calificación  \\\n",
              "0      16/01/2021      Pedro Gomez          Bogotá             4   \n",
              "1      18/05/2022  Beatriz Morales        Medellín             1   \n",
              "2      15/03/2021   Juan Fernandez       Cartagena             1   \n",
              "3      03/05/2022   Juan Fernandez            Cali             4   \n",
              "4      07/11/2020    Maria Alfonso        Medellín             5   \n",
              "\n",
              "       Método de pago  Cantidad de cuotas       lat       lon  \n",
              "0  Tarjeta de crédito                   8   4.60971 -74.08175  \n",
              "1  Tarjeta de crédito                   4   6.25184 -75.56359  \n",
              "2  Tarjeta de crédito                   1  10.39972 -75.51444  \n",
              "3               Nequi                   1   3.43722 -76.52250  \n",
              "4               Nequi                   1   6.25184 -75.56359  "
            ],
            "text/html": [
              "\n",
              "  <div id=\"df-5ead922d-b40c-479f-9bb7-9f5edc757c2a\" class=\"colab-df-container\">\n",
              "    <div>\n",
              "<style scoped>\n",
              "    .dataframe tbody tr th:only-of-type {\n",
              "        vertical-align: middle;\n",
              "    }\n",
              "\n",
              "    .dataframe tbody tr th {\n",
              "        vertical-align: top;\n",
              "    }\n",
              "\n",
              "    .dataframe thead th {\n",
              "        text-align: right;\n",
              "    }\n",
              "</style>\n",
              "<table border=\"1\" class=\"dataframe\">\n",
              "  <thead>\n",
              "    <tr style=\"text-align: right;\">\n",
              "      <th></th>\n",
              "      <th>Producto</th>\n",
              "      <th>Categoría del Producto</th>\n",
              "      <th>Precio</th>\n",
              "      <th>Costo de envío</th>\n",
              "      <th>Fecha de Compra</th>\n",
              "      <th>Vendedor</th>\n",
              "      <th>Lugar de Compra</th>\n",
              "      <th>Calificación</th>\n",
              "      <th>Método de pago</th>\n",
              "      <th>Cantidad de cuotas</th>\n",
              "      <th>lat</th>\n",
              "      <th>lon</th>\n",
              "    </tr>\n",
              "  </thead>\n",
              "  <tbody>\n",
              "    <tr>\n",
              "      <th>0</th>\n",
              "      <td>Asistente virtual</td>\n",
              "      <td>Electrónicos</td>\n",
              "      <td>164300.0</td>\n",
              "      <td>6900.0</td>\n",
              "      <td>16/01/2021</td>\n",
              "      <td>Pedro Gomez</td>\n",
              "      <td>Bogotá</td>\n",
              "      <td>4</td>\n",
              "      <td>Tarjeta de crédito</td>\n",
              "      <td>8</td>\n",
              "      <td>4.60971</td>\n",
              "      <td>-74.08175</td>\n",
              "    </tr>\n",
              "    <tr>\n",
              "      <th>1</th>\n",
              "      <td>Mesa de comedor</td>\n",
              "      <td>Muebles</td>\n",
              "      <td>192300.0</td>\n",
              "      <td>8400.0</td>\n",
              "      <td>18/05/2022</td>\n",
              "      <td>Beatriz Morales</td>\n",
              "      <td>Medellín</td>\n",
              "      <td>1</td>\n",
              "      <td>Tarjeta de crédito</td>\n",
              "      <td>4</td>\n",
              "      <td>6.25184</td>\n",
              "      <td>-75.56359</td>\n",
              "    </tr>\n",
              "    <tr>\n",
              "      <th>2</th>\n",
              "      <td>Juego de mesa</td>\n",
              "      <td>Juguetes</td>\n",
              "      <td>209600.0</td>\n",
              "      <td>15900.0</td>\n",
              "      <td>15/03/2021</td>\n",
              "      <td>Juan Fernandez</td>\n",
              "      <td>Cartagena</td>\n",
              "      <td>1</td>\n",
              "      <td>Tarjeta de crédito</td>\n",
              "      <td>1</td>\n",
              "      <td>10.39972</td>\n",
              "      <td>-75.51444</td>\n",
              "    </tr>\n",
              "    <tr>\n",
              "      <th>3</th>\n",
              "      <td>Microondas</td>\n",
              "      <td>Electrodomésticos</td>\n",
              "      <td>757500.0</td>\n",
              "      <td>41000.0</td>\n",
              "      <td>03/05/2022</td>\n",
              "      <td>Juan Fernandez</td>\n",
              "      <td>Cali</td>\n",
              "      <td>4</td>\n",
              "      <td>Nequi</td>\n",
              "      <td>1</td>\n",
              "      <td>3.43722</td>\n",
              "      <td>-76.52250</td>\n",
              "    </tr>\n",
              "    <tr>\n",
              "      <th>4</th>\n",
              "      <td>Silla de oficina</td>\n",
              "      <td>Muebles</td>\n",
              "      <td>335200.0</td>\n",
              "      <td>20200.0</td>\n",
              "      <td>07/11/2020</td>\n",
              "      <td>Maria Alfonso</td>\n",
              "      <td>Medellín</td>\n",
              "      <td>5</td>\n",
              "      <td>Nequi</td>\n",
              "      <td>1</td>\n",
              "      <td>6.25184</td>\n",
              "      <td>-75.56359</td>\n",
              "    </tr>\n",
              "  </tbody>\n",
              "</table>\n",
              "</div>\n",
              "    <div class=\"colab-df-buttons\">\n",
              "\n",
              "  <div class=\"colab-df-container\">\n",
              "    <button class=\"colab-df-convert\" onclick=\"convertToInteractive('df-5ead922d-b40c-479f-9bb7-9f5edc757c2a')\"\n",
              "            title=\"Convert this dataframe to an interactive table.\"\n",
              "            style=\"display:none;\">\n",
              "\n",
              "  <svg xmlns=\"http://www.w3.org/2000/svg\" height=\"24px\" viewBox=\"0 -960 960 960\">\n",
              "    <path d=\"M120-120v-720h720v720H120Zm60-500h600v-160H180v160Zm220 220h160v-160H400v160Zm0 220h160v-160H400v160ZM180-400h160v-160H180v160Zm440 0h160v-160H620v160ZM180-180h160v-160H180v160Zm440 0h160v-160H620v160Z\"/>\n",
              "  </svg>\n",
              "    </button>\n",
              "\n",
              "  <style>\n",
              "    .colab-df-container {\n",
              "      display:flex;\n",
              "      gap: 12px;\n",
              "    }\n",
              "\n",
              "    .colab-df-convert {\n",
              "      background-color: #E8F0FE;\n",
              "      border: none;\n",
              "      border-radius: 50%;\n",
              "      cursor: pointer;\n",
              "      display: none;\n",
              "      fill: #1967D2;\n",
              "      height: 32px;\n",
              "      padding: 0 0 0 0;\n",
              "      width: 32px;\n",
              "    }\n",
              "\n",
              "    .colab-df-convert:hover {\n",
              "      background-color: #E2EBFA;\n",
              "      box-shadow: 0px 1px 2px rgba(60, 64, 67, 0.3), 0px 1px 3px 1px rgba(60, 64, 67, 0.15);\n",
              "      fill: #174EA6;\n",
              "    }\n",
              "\n",
              "    .colab-df-buttons div {\n",
              "      margin-bottom: 4px;\n",
              "    }\n",
              "\n",
              "    [theme=dark] .colab-df-convert {\n",
              "      background-color: #3B4455;\n",
              "      fill: #D2E3FC;\n",
              "    }\n",
              "\n",
              "    [theme=dark] .colab-df-convert:hover {\n",
              "      background-color: #434B5C;\n",
              "      box-shadow: 0px 1px 3px 1px rgba(0, 0, 0, 0.15);\n",
              "      filter: drop-shadow(0px 1px 2px rgba(0, 0, 0, 0.3));\n",
              "      fill: #FFFFFF;\n",
              "    }\n",
              "  </style>\n",
              "\n",
              "    <script>\n",
              "      const buttonEl =\n",
              "        document.querySelector('#df-5ead922d-b40c-479f-9bb7-9f5edc757c2a button.colab-df-convert');\n",
              "      buttonEl.style.display =\n",
              "        google.colab.kernel.accessAllowed ? 'block' : 'none';\n",
              "\n",
              "      async function convertToInteractive(key) {\n",
              "        const element = document.querySelector('#df-5ead922d-b40c-479f-9bb7-9f5edc757c2a');\n",
              "        const dataTable =\n",
              "          await google.colab.kernel.invokeFunction('convertToInteractive',\n",
              "                                                    [key], {});\n",
              "        if (!dataTable) return;\n",
              "\n",
              "        const docLinkHtml = 'Like what you see? Visit the ' +\n",
              "          '<a target=\"_blank\" href=https://colab.research.google.com/notebooks/data_table.ipynb>data table notebook</a>'\n",
              "          + ' to learn more about interactive tables.';\n",
              "        element.innerHTML = '';\n",
              "        dataTable['output_type'] = 'display_data';\n",
              "        await google.colab.output.renderOutput(dataTable, element);\n",
              "        const docLink = document.createElement('div');\n",
              "        docLink.innerHTML = docLinkHtml;\n",
              "        element.appendChild(docLink);\n",
              "      }\n",
              "    </script>\n",
              "  </div>\n",
              "\n",
              "\n",
              "    <div id=\"df-4bcf0f01-04c9-4045-8d01-88d21262eaf7\">\n",
              "      <button class=\"colab-df-quickchart\" onclick=\"quickchart('df-4bcf0f01-04c9-4045-8d01-88d21262eaf7')\"\n",
              "                title=\"Suggest charts\"\n",
              "                style=\"display:none;\">\n",
              "\n",
              "<svg xmlns=\"http://www.w3.org/2000/svg\" height=\"24px\"viewBox=\"0 0 24 24\"\n",
              "     width=\"24px\">\n",
              "    <g>\n",
              "        <path d=\"M19 3H5c-1.1 0-2 .9-2 2v14c0 1.1.9 2 2 2h14c1.1 0 2-.9 2-2V5c0-1.1-.9-2-2-2zM9 17H7v-7h2v7zm4 0h-2V7h2v10zm4 0h-2v-4h2v4z\"/>\n",
              "    </g>\n",
              "</svg>\n",
              "      </button>\n",
              "\n",
              "<style>\n",
              "  .colab-df-quickchart {\n",
              "      --bg-color: #E8F0FE;\n",
              "      --fill-color: #1967D2;\n",
              "      --hover-bg-color: #E2EBFA;\n",
              "      --hover-fill-color: #174EA6;\n",
              "      --disabled-fill-color: #AAA;\n",
              "      --disabled-bg-color: #DDD;\n",
              "  }\n",
              "\n",
              "  [theme=dark] .colab-df-quickchart {\n",
              "      --bg-color: #3B4455;\n",
              "      --fill-color: #D2E3FC;\n",
              "      --hover-bg-color: #434B5C;\n",
              "      --hover-fill-color: #FFFFFF;\n",
              "      --disabled-bg-color: #3B4455;\n",
              "      --disabled-fill-color: #666;\n",
              "  }\n",
              "\n",
              "  .colab-df-quickchart {\n",
              "    background-color: var(--bg-color);\n",
              "    border: none;\n",
              "    border-radius: 50%;\n",
              "    cursor: pointer;\n",
              "    display: none;\n",
              "    fill: var(--fill-color);\n",
              "    height: 32px;\n",
              "    padding: 0;\n",
              "    width: 32px;\n",
              "  }\n",
              "\n",
              "  .colab-df-quickchart:hover {\n",
              "    background-color: var(--hover-bg-color);\n",
              "    box-shadow: 0 1px 2px rgba(60, 64, 67, 0.3), 0 1px 3px 1px rgba(60, 64, 67, 0.15);\n",
              "    fill: var(--button-hover-fill-color);\n",
              "  }\n",
              "\n",
              "  .colab-df-quickchart-complete:disabled,\n",
              "  .colab-df-quickchart-complete:disabled:hover {\n",
              "    background-color: var(--disabled-bg-color);\n",
              "    fill: var(--disabled-fill-color);\n",
              "    box-shadow: none;\n",
              "  }\n",
              "\n",
              "  .colab-df-spinner {\n",
              "    border: 2px solid var(--fill-color);\n",
              "    border-color: transparent;\n",
              "    border-bottom-color: var(--fill-color);\n",
              "    animation:\n",
              "      spin 1s steps(1) infinite;\n",
              "  }\n",
              "\n",
              "  @keyframes spin {\n",
              "    0% {\n",
              "      border-color: transparent;\n",
              "      border-bottom-color: var(--fill-color);\n",
              "      border-left-color: var(--fill-color);\n",
              "    }\n",
              "    20% {\n",
              "      border-color: transparent;\n",
              "      border-left-color: var(--fill-color);\n",
              "      border-top-color: var(--fill-color);\n",
              "    }\n",
              "    30% {\n",
              "      border-color: transparent;\n",
              "      border-left-color: var(--fill-color);\n",
              "      border-top-color: var(--fill-color);\n",
              "      border-right-color: var(--fill-color);\n",
              "    }\n",
              "    40% {\n",
              "      border-color: transparent;\n",
              "      border-right-color: var(--fill-color);\n",
              "      border-top-color: var(--fill-color);\n",
              "    }\n",
              "    60% {\n",
              "      border-color: transparent;\n",
              "      border-right-color: var(--fill-color);\n",
              "    }\n",
              "    80% {\n",
              "      border-color: transparent;\n",
              "      border-right-color: var(--fill-color);\n",
              "      border-bottom-color: var(--fill-color);\n",
              "    }\n",
              "    90% {\n",
              "      border-color: transparent;\n",
              "      border-bottom-color: var(--fill-color);\n",
              "    }\n",
              "  }\n",
              "</style>\n",
              "\n",
              "      <script>\n",
              "        async function quickchart(key) {\n",
              "          const quickchartButtonEl =\n",
              "            document.querySelector('#' + key + ' button');\n",
              "          quickchartButtonEl.disabled = true;  // To prevent multiple clicks.\n",
              "          quickchartButtonEl.classList.add('colab-df-spinner');\n",
              "          try {\n",
              "            const charts = await google.colab.kernel.invokeFunction(\n",
              "                'suggestCharts', [key], {});\n",
              "          } catch (error) {\n",
              "            console.error('Error during call to suggestCharts:', error);\n",
              "          }\n",
              "          quickchartButtonEl.classList.remove('colab-df-spinner');\n",
              "          quickchartButtonEl.classList.add('colab-df-quickchart-complete');\n",
              "        }\n",
              "        (() => {\n",
              "          let quickchartButtonEl =\n",
              "            document.querySelector('#df-4bcf0f01-04c9-4045-8d01-88d21262eaf7 button');\n",
              "          quickchartButtonEl.style.display =\n",
              "            google.colab.kernel.accessAllowed ? 'block' : 'none';\n",
              "        })();\n",
              "      </script>\n",
              "    </div>\n",
              "\n",
              "    </div>\n",
              "  </div>\n"
            ],
            "application/vnd.google.colaboratory.intrinsic+json": {
              "type": "dataframe",
              "variable_name": "tienda",
              "summary": "{\n  \"name\": \"tienda\",\n  \"rows\": 2359,\n  \"fields\": [\n    {\n      \"column\": \"Producto\",\n      \"properties\": {\n        \"dtype\": \"category\",\n        \"num_unique_values\": 51,\n        \"samples\": [\n          \"Guitarra ac\\u00fastica\",\n          \"Bal\\u00f3n de baloncesto\",\n          \"Smartwatch\"\n        ],\n        \"semantic_type\": \"\",\n        \"description\": \"\"\n      }\n    },\n    {\n      \"column\": \"Categor\\u00eda del Producto\",\n      \"properties\": {\n        \"dtype\": \"category\",\n        \"num_unique_values\": 8,\n        \"samples\": [\n          \"Muebles\",\n          \"Deportes y diversi\\u00f3n\",\n          \"Electr\\u00f3nicos\"\n        ],\n        \"semantic_type\": \"\",\n        \"description\": \"\"\n      }\n    },\n    {\n      \"column\": \"Precio\",\n      \"properties\": {\n        \"dtype\": \"number\",\n        \"std\": 614686.7653873172,\n        \"min\": 7600.0,\n        \"max\": 2977000.0,\n        \"num_unique_values\": 1937,\n        \"samples\": [\n          2499400.0,\n          14800.0,\n          80500.0\n        ],\n        \"semantic_type\": \"\",\n        \"description\": \"\"\n      }\n    },\n    {\n      \"column\": \"Costo de env\\u00edo\",\n      \"properties\": {\n        \"dtype\": \"number\",\n        \"std\": 32860.0017825605,\n        \"min\": 0.0,\n        \"max\": 160800.0,\n        \"num_unique_values\": 753,\n        \"samples\": [\n          117800.0,\n          54700.0,\n          45600.0\n        ],\n        \"semantic_type\": \"\",\n        \"description\": \"\"\n      }\n    },\n    {\n      \"column\": \"Fecha de Compra\",\n      \"properties\": {\n        \"dtype\": \"object\",\n        \"num_unique_values\": 1018,\n        \"samples\": [\n          \"15/09/2022\",\n          \"03/06/2020\",\n          \"06/11/2021\"\n        ],\n        \"semantic_type\": \"\",\n        \"description\": \"\"\n      }\n    },\n    {\n      \"column\": \"Vendedor\",\n      \"properties\": {\n        \"dtype\": \"category\",\n        \"num_unique_values\": 14,\n        \"samples\": [\n          \"Juliana Costa\",\n          \"Mariana Herrera\",\n          \"Pedro Gomez\"\n        ],\n        \"semantic_type\": \"\",\n        \"description\": \"\"\n      }\n    },\n    {\n      \"column\": \"Lugar de Compra\",\n      \"properties\": {\n        \"dtype\": \"category\",\n        \"num_unique_values\": 19,\n        \"samples\": [\n          \"Bogot\\u00e1\",\n          \"Pereira\",\n          \"Neiva\"\n        ],\n        \"semantic_type\": \"\",\n        \"description\": \"\"\n      }\n    },\n    {\n      \"column\": \"Calificaci\\u00f3n\",\n      \"properties\": {\n        \"dtype\": \"number\",\n        \"std\": 1,\n        \"min\": 1,\n        \"max\": 5,\n        \"num_unique_values\": 5,\n        \"samples\": [\n          1,\n          2,\n          5\n        ],\n        \"semantic_type\": \"\",\n        \"description\": \"\"\n      }\n    },\n    {\n      \"column\": \"M\\u00e9todo de pago\",\n      \"properties\": {\n        \"dtype\": \"category\",\n        \"num_unique_values\": 4,\n        \"samples\": [\n          \"Nequi\",\n          \"Tarjeta de d\\u00e9bito\",\n          \"Tarjeta de cr\\u00e9dito\"\n        ],\n        \"semantic_type\": \"\",\n        \"description\": \"\"\n      }\n    },\n    {\n      \"column\": \"Cantidad de cuotas\",\n      \"properties\": {\n        \"dtype\": \"number\",\n        \"std\": 2,\n        \"min\": 1,\n        \"max\": 24,\n        \"num_unique_values\": 15,\n        \"samples\": [\n          7,\n          14,\n          8\n        ],\n        \"semantic_type\": \"\",\n        \"description\": \"\"\n      }\n    },\n    {\n      \"column\": \"lat\",\n      \"properties\": {\n        \"dtype\": \"number\",\n        \"std\": 2.2874452492678627,\n        \"min\": -4.21528,\n        \"max\": 11.54444,\n        \"num_unique_values\": 19,\n        \"samples\": [\n          4.60971,\n          4.81333,\n          2.9273\n        ],\n        \"semantic_type\": \"\",\n        \"description\": \"\"\n      }\n    },\n    {\n      \"column\": \"lon\",\n      \"properties\": {\n        \"dtype\": \"number\",\n        \"std\": 1.2178272727088486,\n        \"min\": -77.28111,\n        \"max\": -67.9239,\n        \"num_unique_values\": 19,\n        \"samples\": [\n          -74.08175,\n          -75.69611,\n          -75.28189\n        ],\n        \"semantic_type\": \"\",\n        \"description\": \"\"\n      }\n    }\n  ]\n}"
            }
          },
          "metadata": {},
          "execution_count": 1
        }
      ],
      "source": [
        "import pandas as pd\n",
        "\n",
        "url = \"https://raw.githubusercontent.com/alura-es-cursos/challenge1-data-science-latam/refs/heads/main/base-de-datos-challenge1-latam/tienda_1%20.csv\"\n",
        "url2 = \"https://raw.githubusercontent.com/alura-es-cursos/challenge1-data-science-latam/refs/heads/main/base-de-datos-challenge1-latam/tienda_2.csv\"\n",
        "url3 = \"https://raw.githubusercontent.com/alura-es-cursos/challenge1-data-science-latam/refs/heads/main/base-de-datos-challenge1-latam/tienda_3.csv\"\n",
        "url4 = \"https://raw.githubusercontent.com/alura-es-cursos/challenge1-data-science-latam/refs/heads/main/base-de-datos-challenge1-latam/tienda_4.csv\"\n",
        "\n",
        "tienda = pd.read_csv(url)\n",
        "tienda2 = pd.read_csv(url2)\n",
        "tienda3 = pd.read_csv(url3)\n",
        "tienda4 = pd.read_csv(url4)\n",
        "\n",
        "tienda.head()"
      ]
    },
    {
      "cell_type": "markdown",
      "source": [
        "#1. Análisis de facturación\n",
        "\n"
      ],
      "metadata": {
        "id": "X62IW3KFUIYm"
      }
    },
    {
      "cell_type": "code",
      "source": [
        "suma_precios1 = tienda[\"Precio\"].sum()\n",
        "suma_precios2 = tienda2[\"Precio\"].sum()\n",
        "suma_precios3 = tienda3[\"Precio\"].sum()\n",
        "suma_precios4 = tienda4[\"Precio\"].sum()\n",
        "print (\"El ingreso total de la tienda 1 es de: \",suma_precios1)\n",
        "print (\"El ingreso total de la tienda 2 es de: \",suma_precios2)\n",
        "print (\"El ingreso total de la tienda 3 es de: \",suma_precios3)\n",
        "print (\"El ingreso total de la tienda 4 es de: \",suma_precios4)"
      ],
      "metadata": {
        "id": "xykobSftV64I",
        "colab": {
          "base_uri": "https://localhost:8080/"
        },
        "outputId": "51f7546c-d656-460f-d5e6-30389c0e4b49"
      },
      "execution_count": 33,
      "outputs": [
        {
          "output_type": "stream",
          "name": "stdout",
          "text": [
            "El ingreso total de la tienda 1 es de:  1150880400.0\n",
            "El ingreso total de la tienda 2 es de:  1116343500.0\n",
            "El ingreso total de la tienda 3 es de:  1098019600.0\n",
            "El ingreso total de la tienda 4 es de:  1038375700.0\n"
          ]
        }
      ]
    },
    {
      "cell_type": "code",
      "source": [
        "\n"
      ],
      "metadata": {
        "id": "KDyr8E71V3m-"
      },
      "execution_count": null,
      "outputs": []
    },
    {
      "cell_type": "markdown",
      "source": [
        "# 2. Ventas por categoría"
      ],
      "metadata": {
        "id": "2V_vcAPzWZmR"
      }
    },
    {
      "cell_type": "code",
      "source": [
        "def contar_categorias(tienda):\n",
        "    categorias = list(tienda[\"Categoría del Producto\"])\n",
        "    categorias_unicas = list(set(categorias))\n",
        "    categorias_unicas.sort()\n",
        "\n",
        "    resultado = []\n",
        "    for cat in categorias_unicas:\n",
        "        cantidad = categorias.count(cat)\n",
        "        resultado.append((cat, cantidad))\n",
        "\n",
        "    return resultado\n",
        "\n",
        "print(contar_categorias(tienda))\n",
        "print(contar_categorias(tienda2))\n",
        "print(contar_categorias(tienda3))\n",
        "print(contar_categorias(tienda4))\n"
      ],
      "metadata": {
        "id": "A34YupIuYhfF",
        "colab": {
          "base_uri": "https://localhost:8080/"
        },
        "outputId": "d7fdd7c3-e537-4989-ccc6-022c20f95164"
      },
      "execution_count": 34,
      "outputs": [
        {
          "output_type": "stream",
          "name": "stdout",
          "text": [
            "[('Artículos para el hogar', 171), ('Deportes y diversión', 284), ('Electrodomésticos', 312), ('Electrónicos', 448), ('Instrumentos musicales', 182), ('Juguetes', 324), ('Libros', 173), ('Muebles', 465)]\n",
            "[('Artículos para el hogar', 181), ('Deportes y diversión', 275), ('Electrodomésticos', 305), ('Electrónicos', 422), ('Instrumentos musicales', 224), ('Juguetes', 313), ('Libros', 197), ('Muebles', 442)]\n",
            "[('Artículos para el hogar', 177), ('Deportes y diversión', 277), ('Electrodomésticos', 278), ('Electrónicos', 451), ('Instrumentos musicales', 177), ('Juguetes', 315), ('Libros', 185), ('Muebles', 499)]\n",
            "[('Artículos para el hogar', 201), ('Deportes y diversión', 277), ('Electrodomésticos', 254), ('Electrónicos', 451), ('Instrumentos musicales', 170), ('Juguetes', 338), ('Libros', 187), ('Muebles', 480)]\n"
          ]
        }
      ]
    },
    {
      "cell_type": "code",
      "source": [],
      "metadata": {
        "id": "yZR6cOjXYSk1"
      },
      "execution_count": null,
      "outputs": []
    },
    {
      "cell_type": "markdown",
      "source": [
        "# 3. Calificación promedio de la tienda\n"
      ],
      "metadata": {
        "id": "Rq6tU_xSY3jk"
      }
    },
    {
      "cell_type": "code",
      "source": [
        "def promedio_calificacion(tienda):\n",
        "    suma = tienda[\"Calificación\"].sum()\n",
        "    total = len(tienda[\"Calificación\"])\n",
        "    promedio = suma / total\n",
        "    return round(promedio, 2)\n",
        "\n",
        "print(\"El Promedio de evaluación de la tienda 1 es de:\", promedio_calificacion(tienda))\n",
        "print(\"El Promedio de evaluación de la tienda 2 es de:\", promedio_calificacion(tienda2))\n",
        "print(\"El Promedio de evaluación de la tienda 3 es de:\", promedio_calificacion(tienda3))\n",
        "print(\"El Promedio de evaluación de la tienda 4 es de:\", promedio_calificacion(tienda4))\n"
      ],
      "metadata": {
        "id": "bh3jjjJwY5MU",
        "colab": {
          "base_uri": "https://localhost:8080/"
        },
        "outputId": "9af83d7c-addb-4331-cb84-2e67a8b2b734"
      },
      "execution_count": 35,
      "outputs": [
        {
          "output_type": "stream",
          "name": "stdout",
          "text": [
            "El Promedio de evaluación de la tienda 1 es de: 3.98\n",
            "El Promedio de evaluación de la tienda 2 es de: 4.04\n",
            "El Promedio de evaluación de la tienda 3 es de: 4.05\n",
            "El Promedio de evaluación de la tienda 4 es de: 4.0\n"
          ]
        }
      ]
    },
    {
      "cell_type": "code",
      "source": [],
      "metadata": {
        "id": "I0KkjPoTY88F"
      },
      "execution_count": null,
      "outputs": []
    },
    {
      "cell_type": "markdown",
      "source": [
        "# 4. Productos más y menos vendidos"
      ],
      "metadata": {
        "id": "DmNp1KPBZCm-"
      }
    },
    {
      "cell_type": "code",
      "source": [
        "def analizar_productos(tienda):\n",
        "    productos = list(tienda[\"Producto\"])\n",
        "    productos_unicos = list(set(productos))\n",
        "    productos_unicos.sort()\n",
        "\n",
        "    resultado = []\n",
        "    for prod in productos_unicos:\n",
        "        cantidad = productos.count(prod)\n",
        "        resultado.append((prod, cantidad))\n",
        "\n",
        "    resultado.sort(key=lambda x: x[1])\n",
        "    menos_vendido = resultado[0]\n",
        "    mas_vendido = resultado[-1]\n",
        "\n",
        "    return menos_vendido, mas_vendido\n",
        "\n",
        "print(\"Tienda 1:\", analizar_productos(tienda))\n",
        "print(\"Tienda 2:\", analizar_productos(tienda2))\n",
        "print(\"Tienda 3:\", analizar_productos(tienda3))\n",
        "print(\"Tienda 4:\", analizar_productos(tienda4))\n"
      ],
      "metadata": {
        "id": "qoyjqijQZHfF",
        "colab": {
          "base_uri": "https://localhost:8080/"
        },
        "outputId": "b633b513-dffa-44a0-9a87-c640de2555c1"
      },
      "execution_count": 36,
      "outputs": [
        {
          "output_type": "stream",
          "name": "stdout",
          "text": [
            "Tienda 1: (('Auriculares con micrófono', 33), ('TV LED UHD 4K', 60))\n",
            "Tienda 2: (('Juego de mesa', 32), ('Iniciando en programación', 65))\n",
            "Tienda 3: (('Bloques de construcción', 35), ('Kit de bancas', 57))\n",
            "Tienda 4: (('Guitarra eléctrica', 33), ('Cama box', 62))\n"
          ]
        }
      ]
    },
    {
      "cell_type": "code",
      "source": [],
      "metadata": {
        "id": "0Sw3sd4IZIGW"
      },
      "execution_count": null,
      "outputs": []
    },
    {
      "cell_type": "markdown",
      "source": [
        "# 5. Envío promedio por tienda"
      ],
      "metadata": {
        "id": "Fl0cGi3bZKqU"
      }
    },
    {
      "cell_type": "code",
      "source": [
        "def costo_envio_promedio(tienda):\n",
        "    suma = tienda[\"Costo de envío\"].sum()\n",
        "    total = len(tienda[\"Costo de envío\"])\n",
        "    return round(suma / total, 2)\n",
        "\n",
        "print(\"En la Tienda 1 se gasta en envío:\", costo_envio_promedio(tienda))\n",
        "print(\"En la Tienda 2 se gasta en envío:\", costo_envio_promedio(tienda2))\n",
        "print(\"En la Tienda 3 se gasta en envío:\", costo_envio_promedio(tienda3))\n",
        "print(\"En la Tienda 4 se gasta en envío:\", costo_envio_promedio(tienda4))\n"
      ],
      "metadata": {
        "id": "S2JeaCykZNy9",
        "colab": {
          "base_uri": "https://localhost:8080/"
        },
        "outputId": "8506dce9-1d05-4572-a76e-e6af86a2e9ba"
      },
      "execution_count": 37,
      "outputs": [
        {
          "output_type": "stream",
          "name": "stdout",
          "text": [
            "En la Tienda 1 se gasta en envío: 26018.61\n",
            "En la Tienda 2 se gasta en envío: 25216.24\n",
            "En la Tienda 3 se gasta en envío: 24805.68\n",
            "En la Tienda 4 se gasta en envío: 23459.46\n"
          ]
        }
      ]
    },
    {
      "cell_type": "code",
      "source": [
        "import matplotlib.pyplot as plt\n",
        "\n",
        "#Grafico de pastel para ingresos\n",
        "ingresos = [suma_precios1, suma_precios2, suma_precios3, suma_precios4]\n",
        "tiendas_nombres = [\"Tienda 1\", \"Tienda 2\", \"Tienda 3\", \"Tienda 4\"]\n",
        "\n",
        "plt.pie(ingresos, labels=tiendas_nombres, autopct='%1.1f%%')\n",
        "plt.title(\"Proporción de ingresos por tienda\")\n",
        "plt.show()\n",
        "\n",
        "#Grafico de columnas para evaluación de cada tienda\n",
        "promedios = [\n",
        "    promedio_calificacion(tienda),\n",
        "    promedio_calificacion(tienda2),\n",
        "    promedio_calificacion(tienda3),\n",
        "    promedio_calificacion(tienda4)\n",
        "]\n",
        "\n",
        "plt.bar(tiendas_nombres, promedios)\n",
        "plt.title(\"Promedio de calificación por tienda\")\n",
        "plt.xlabel(\"Tiendas\")\n",
        "plt.ylabel(\"Calificación promedio\")\n",
        "plt.ylim(0, 5)\n",
        "plt.show()\n",
        "\n",
        "\n",
        "#Grafico de barras horizontales para ventas por categoria\n",
        "categorias_t1 = contar_categorias(tienda)\n",
        "\n",
        "categorias_nombres = [cat for cat, _ in categorias_t1]\n",
        "categorias_cantidades = [cant for _, cant in categorias_t1]\n",
        "\n",
        "plt.barh(categorias_nombres, categorias_cantidades)\n",
        "plt.title(\"Ventas por categoría - Tienda 1\")\n",
        "plt.xlabel(\"Cantidad de ventas\")\n",
        "plt.ylabel(\"Categorías\")\n",
        "plt.tight_layout()\n",
        "plt.show()\n",
        "\n"
      ],
      "metadata": {
        "id": "0tSdCie9ZQlt",
        "colab": {
          "base_uri": "https://localhost:8080/",
          "height": 1000
        },
        "outputId": "7e3b6da6-3d11-4b87-fc0d-c2582e076391"
      },
      "execution_count": null,
      "outputs": [
        {
          "output_type": "display_data",
          "data": {
            "text/plain": [
              "<Figure size 640x480 with 1 Axes>"
            ],
            "image/png": "[encoded data removed]"
          },
          "metadata": {}
        },
        {
          "output_type": "display_data",
          "data": {
            "text/plain": [
              "<Figure size 640x480 with 1 Axes>"
            ],
            "image/png": "[encoded data removed]"
          },
          "metadata": {}
        },
        {
          "output_type": "display_data",
          "data": {
            "text/plain": [
              "<Figure size 640x480 with 1 Axes>"
            ],
            "image/png": "[encoded data removed]"
          },
          "metadata": {}
        }
      ]
    },
    {
      "cell_type": "code",
      "source": [],
      "metadata": {
        "id": "F9v_tRWxtETg"
      },
      "execution_count": null,
      "outputs": []
    },
    {
      "cell_type": "markdown",
      "source": [
        "El objetivo de este análisis es ayudar al Sr. Juan a elegir la tienda más conveniente para vender sus productos.\n",
        "Para esto, se revisaron y compararon diferentes aspectos de cuatro tiendas:\n",
        "\n",
        "* Ingresos totales.\n",
        "* Categorías de productos más y menos vendidos.\n",
        "* Calificación promedio de los clientes.\n",
        "* Productos más y menos vendidos.\n",
        "* Coste de envío promedio.\n",
        "\n",
        "Con base en estos datos y en las visualizaciones generadas, se busca identificar cuál tienda ofrece mejores oportunidades y justificar la elección.\n",
        "\n",
        "Propuesta:\n",
        "\n",
        "**Ingresos totales**\n",
        "\n",
        "* Tienda 1: 1,150,880,400\n",
        "* Tienda 2: 1,116,343,500\n",
        "* Tienda 3: 1,098,019,600\n",
        "* Tienda 4: 1,038,375,700\n",
        "\n",
        "**La Tienda 1 tuvo el mayor ingreso total, lo que indica que tiene un alto volumen de ventas.**\n",
        "\n",
        "**Ventas por categoría**\n",
        "\n",
        "Todas las tiendas venden bien en “Muebles” y “Electrónicos”, pero con pequeñas variaciones.\n",
        "\n",
        "* Tienda 1 destaca en Muebles (465) y Electrónicos (448).\n",
        "* Tienda 3 también sobresale en Muebles (499) y Electrónicos (451).\n",
        "* Tienda 4 mantiene buenos números en Muebles (480) y Electrónicos (451).\n",
        "* Tienda 2 tiene un equilibrio, pero no lidera en ninguna categoría principal.\n",
        "\n",
        "**Calificación promedio de clientes**\n",
        "\n",
        "* Tienda 1: 3.98\n",
        "* Tienda 2: 4.04\n",
        "* Tienda 3: 4.05\n",
        "* Tienda 4: 4.00\n",
        "\n",
        "**La Tienda 3 tiene la mejor calificación promedio, seguida muy de cerca por la Tienda 2.**\n",
        "\n",
        "**Productos más y menos vendidos**\n",
        "\n",
        "* Tienda 1: Más vendido → TV LED UHD 4K (60). Menos vendido → Auriculares con micrófono (33).\n",
        "* Tienda 2: Más vendido → Iniciando en programación (65). Menos vendido → Juego de mesa (32).\n",
        "* Tienda 3: Más vendido → Kit de bancas (57). Menos vendido → Bloques de construcción (35).\n",
        "* Tienda 4: Más vendido → Cama box (62). Menos vendido → Guitarra eléctrica (33).\n",
        "\n",
        "Esto muestra que en cada tienda hay productos que funcionan muy bien y otros con baja rotación.\n",
        "\n",
        "**Coste de envío promedio**\n",
        "\n",
        "* Tienda 1: 26,018.61\n",
        "* Tienda 2: 25,216.24\n",
        "* Tienda 3: 24,805.68\n",
        "* Tienda 4: 23,459.46\n",
        "\n",
        "La Tienda 4 tiene el envío promedio más bajo, lo que puede ser atractivo para los clientes.\n",
        "\n",
        "\n",
        "***Después de analizar todos los factores, la tienda que más conviene al Sr. Juan es la Tienda 3.***\n",
        "\n",
        "**Justificación:**\n",
        "\n",
        "Tiene la mejor calificación promedio de clientes (4.05), lo que refleja buena reputación y satisfacción.\n",
        "\n",
        "Sus ventas en categorías clave como Muebles (499) y Electrónicos (451) son muy altas, lo que demuestra alta demanda en productos de alto valor.\n",
        "\n",
        "Aunque no tiene el mayor ingreso total (queda en tercer lugar), su costo de envío promedio (24,805.68) es más bajo que el de las tiendas 1 y 2, lo que puede incentivar más compras.\n",
        "\n",
        "Mantiene un equilibrio entre variedad, rotación de productos y buena experiencia del cliente.\n",
        "\n",
        "**En resumen, la Tienda 3 combina buena reputación, altas ventas en categorías rentables y costos de envío competitivos, lo que la convierte en la mejor opción para que el Sr. Juan venda sus productos.**"
      ],
      "metadata": {
        "id": "WI85HPlYt4K5"
      }
    }
  ]
}